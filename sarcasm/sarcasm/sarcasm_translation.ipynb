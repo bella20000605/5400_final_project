{
 "cells": [
  {
   "cell_type": "code",
   "execution_count": 3,
   "metadata": {},
   "outputs": [
    {
     "data": {
      "text/plain": [
       "'\\nsarc,7398,\"ok, the absolutly positively true story. god did exist. but, satan being the wiley deciever he is got him with that very clever paradox ploy. \\'god, if you are truely all powerful, can you make yourself not exist?\\' satan asked. \\'but of course.\\' he replied and with that...*poof* he was gone. that explains why he doesn\\'t do anything. no miracles, no prayers answer, nothing...he\\'s gone. and, for those fools who doubt this, i refer you to the book of job. witness how god jumps to the tune of satan when god withdraws his protection from his loyal and faithful servant...merely to prove a point to satan...without cause!\"\\nsarc,7399,\"what is not only illogical but patently false is the assertion that the unborn baby is making his mother a slave of any kind. did that baby force her to conceive it? is that baby the equivalent of a tumor as the pro abortionists claim them to be? no, it is an unborn human being who just needs the time to grow and develop in order to be a sentient being just as we are as we type on these keyboards.  that explains everything about how irrational you are! but based on your posts though, i think they already pulled the plug. emoticonxfrazzledemoticonxdonno  \"\\nsarc,7400,\"what a shock, tq is once again on the wrong side of an issue, and decides to make a spectacle of himself by highlighting the fact that he is completely incapable of understanding basic literary principles. for one, the principle that a man means what he writes. btw, where\\'s jake in all of this? he seems to have gone mia. emoticonxrolleyes\"\\nsarc,7401,what a shock. none of this has anything to do with what i wrote.\\n'"
      ]
     },
     "execution_count": 3,
     "metadata": {},
     "output_type": "execute_result"
    }
   ],
   "source": [
    "'''\n",
    "sarc,7398,\"ok, the absolutly positively true story. god did exist. but, satan being the wiley deciever he is got him with that very clever paradox ploy. 'god, if you are truely all powerful, can you make yourself not exist?' satan asked. 'but of course.' he replied and with that...*poof* he was gone. that explains why he doesn't do anything. no miracles, no prayers answer, nothing...he's gone. and, for those fools who doubt this, i refer you to the book of job. witness how god jumps to the tune of satan when god withdraws his protection from his loyal and faithful servant...merely to prove a point to satan...without cause!\"\n",
    "sarc,7399,\"what is not only illogical but patently false is the assertion that the unborn baby is making his mother a slave of any kind. did that baby force her to conceive it? is that baby the equivalent of a tumor as the pro abortionists claim them to be? no, it is an unborn human being who just needs the time to grow and develop in order to be a sentient being just as we are as we type on these keyboards.  that explains everything about how irrational you are! but based on your posts though, i think they already pulled the plug. emoticonxfrazzledemoticonxdonno  \"\n",
    "sarc,7400,\"what a shock, tq is once again on the wrong side of an issue, and decides to make a spectacle of himself by highlighting the fact that he is completely incapable of understanding basic literary principles. for one, the principle that a man means what he writes. btw, where's jake in all of this? he seems to have gone mia. emoticonxrolleyes\"\n",
    "sarc,7401,what a shock. none of this has anything to do with what i wrote.\n",
    "'''\n"
   ]
  },
  {
   "cell_type": "code",
   "execution_count": 5,
   "metadata": {},
   "outputs": [],
   "source": [
    "def sentiment_score_check(text):\n",
    "    \"\"\"\n",
    "    Description:\n",
    "        Analyze the sentiment of a given text using the VADER Sentiment Analysis tool from the NLTK library.\n",
    "        Analyzes the sentiment of a given text. \n",
    "        This function determines whether the text has a negative sentiment or potentially sarcasm (indicated by a positive sentiment).\n",
    "\n",
    "    Arguments:\n",
    "        text: str - The text string whose sentiment is to be analyzed.\n",
    "\n",
    "    Returns:\n",
    "        bool - Returns False if the text has negative sentiment (indicating no need for sarcasm translation).\n",
    "               Returns True if the text has positive sentiment, suggesting potential sarcasm.\n",
    "    \"\"\"\n",
    "\n",
    "    from nltk.sentiment.vader import SentimentIntensityAnalyzer\n",
    "\n",
    "    # Sentiment analysis with VADER\n",
    "    sid = SentimentIntensityAnalyzer()\n",
    "    scores = sid.polarity_scores(text)\n",
    "\n",
    "    # If sentiment score is negative, it means the tect is already expressing negative emotions.\n",
    "    if scores['pos'] <= scores['neg']:\n",
    "        print(\"Negative Sentiment Scores, No Need To Translate\")\n",
    "        return False\n",
    "    # If the score is positive, it means there must be something sarcasm\n",
    "    else:\n",
    "        return True\n",
    "    "
   ]
  },
  {
   "cell_type": "code",
   "execution_count": 6,
   "metadata": {},
   "outputs": [],
   "source": [
    "def sentiment_score_adjective(text):\n",
    "    \"\"\"\n",
    "    Description:\n",
    "        Analyzes a given text to extract and evaluate the sentiment of adjectives. \n",
    "        This function tokenizes the text, removes stopwords, performs POS (part-of-speech) tagging. \n",
    "        Then scores each adjective using the Afinn Sentiment Analysis tool.\n",
    "        The Afinn Sentiment Analysis tool scores each adjective. Only adjectives with a non-negative sentiment score \n",
    "\n",
    "    Arguments:\n",
    "        text: str - The text string to be analyzed for adjectives and their sentiment.\n",
    "\n",
    "    Returns:\n",
    "        list of str - A list of adjectives from the text that have a non-negative sentiment score.\n",
    "    \"\"\"\n",
    "\n",
    "    from afinn import Afinn\n",
    "    import string\n",
    "    import nltk\n",
    "    from nltk import pos_tag, word_tokenize\n",
    "    from nltk.corpus import stopwords\n",
    "\n",
    "    # Remove punctutation from the sentence\n",
    "    text_clean = text.translate(str.maketrans('', '', string.punctuation))\n",
    "\n",
    "    # Tokenize\n",
    "    tokens = word_tokenize(text)\n",
    "\n",
    "    stop_words = stopwords.words('english')  # Get the set of English stopwords\n",
    "    add = ['mr', 'mrs', 'wa', 'dr', 'said', 'back', 'could', 'one', 'looked',\n",
    "           'know', 'around', 'dont', 'i', 'me', 'he', 'him', 'she', 'her', 'we']\n",
    "    for sp in add:\n",
    "        stop_words.append(sp)\n",
    "\n",
    "    # Remove stop words\n",
    "    tokens_cleaned = [word for word in tokens if word.lower()\n",
    "                      not in stop_words]\n",
    "\n",
    "    # Get POS tagging\n",
    "    pos_tags = pos_tag(tokens_cleaned)\n",
    "\n",
    "    # Find the sentiment_score for each adjective and append the positive one\n",
    "    adj_word = []\n",
    "    for w in pos_tags:\n",
    "        if w[1] in ['JJ', 'JJR', 'JJS']:\n",
    "            afinn = Afinn()\n",
    "            sentiment_score = afinn.score(w[0])\n",
    "            if sentiment_score >= 0:\n",
    "                adj_word.append(w[0])\n",
    "\n",
    "    return adj_word\n"
   ]
  },
  {
   "cell_type": "code",
   "execution_count": 7,
   "metadata": {},
   "outputs": [],
   "source": [
    "def antonyms_for(word):\n",
    "    \"\"\"\n",
    "    Description:\n",
    "        NLTK uses the WordNet thesaurus to retrieve antonyms for a given word. \n",
    "        It iterates the word's synonym set (cognitive synonym set), finds the lemmas. \n",
    "        Then collects their antonyms if they are categorized as adjectives.\n",
    "\n",
    "    Arguments:\n",
    "        word: str - The word for which antonyms are to be found.\n",
    "\n",
    "    Returns:\n",
    "        list of str - A list of antonym words, specifically adjectives, for the given word.\n",
    "    \"\"\"\n",
    "    from nltk.corpus import wordnet\n",
    "    antonyms = set()\n",
    "    for ss in wordnet.synsets(word):\n",
    "        for lemma in ss.lemmas():\n",
    "            any_pos_antonyms = [antonym.name() for antonym in lemma.antonyms()]\n",
    "            for antonym in any_pos_antonyms:\n",
    "                antonym_synsets = wordnet.synsets(antonym)\n",
    "                if wordnet.ADJ not in [ss.pos() for ss in antonym_synsets]:\n",
    "                    continue\n",
    "                antonyms.add(antonym)\n",
    "    return list(antonyms)\n"
   ]
  },
  {
   "cell_type": "code",
   "execution_count": 15,
   "metadata": {},
   "outputs": [],
   "source": [
    "def adjective_translation(text, adj_list):\n",
    "    \"\"\"\n",
    "    \"adjective_translation\"\n",
    "\n",
    "    Description:\n",
    "        Translate the positive adjectives in a given text into antonyms. \n",
    "        For each adjective in the list, find its antonym, rate them using Afinn. \n",
    "        Then choose the antonym that is closest to the original adjective's sentiment score.\n",
    "\n",
    "    Arguments:\n",
    "        text: str - The original text containing adjectives to be translated.\n",
    "        adj_list: list of str - A list of adjectives identified in the text to be translated.\n",
    "\n",
    "    Returns:\n",
    "        list of str - A list of text variations, each with one of the adjectives replaced by its \n",
    "                      antonym. If no suitable antonyms are found for any of the adjectives, it may\n",
    "                      return an empty list or a message indicating failure.\n",
    "    \"\"\"\n",
    "\n",
    "    from afinn import Afinn\n",
    "    adj_dictionary = {}\n",
    "\n",
    "    # For each positive adjective, find the antonym for that word\n",
    "    for adj in adj_list:\n",
    "        antonyms = antonyms_for(adj)\n",
    "        # If no antonyms returned, continue to next word\n",
    "        if len(antonyms) == 0:\n",
    "            print(f'\"{adj}\" is detected to be a potential sarcasm word, but no antonyms translated for \"{adj}\", continue to next adjective')\n",
    "            continue\n",
    "        antonyms_score = {}\n",
    "        for antonym in antonyms:\n",
    "            afinn = Afinn()\n",
    "            antonym_score = afinn.score(antonym)\n",
    "            word_score = afinn.score(adj)\n",
    "            total_score = abs(antonym_score+word_score)\n",
    "            antonyms_score[antonym] = total_score\n",
    "        # Choose the antonym with the closest opposite afinn score to the original\n",
    "        key_with_max_value = min(antonyms_score, key=antonyms_score.get)\n",
    "        adj_dictionary[adj] = key_with_max_value\n",
    "\n",
    "    # Loop through each adjective in the dicitonary and replace the orignial text string\n",
    "    non_sarcasm_candidates = []\n",
    "    for key, value in adj_dictionary.items():\n",
    "        text_edit = text.replace(key, value)\n",
    "        non_sarcasm_candidates.append(text_edit)\n",
    "\n",
    "    if len(non_sarcasm_candidates) == 0:\n",
    "        print(\n",
    "            \"translation failed, unable to find a non-sarcasm verison of the original text\")\n",
    "        return\n",
    "\n",
    "    return non_sarcasm_candidates\n"
   ]
  },
  {
   "cell_type": "code",
   "execution_count": 17,
   "metadata": {},
   "outputs": [
    {
     "name": "stdout",
     "output_type": "stream",
     "text": [
      "['serious', 'education', 'fictional', 'impossible']\n",
      "\"education\" is detected to be a potential sarcasm word, but no antonyms translated for \"education\", continue to next adjective\n"
     ]
    },
    {
     "data": {
      "text/plain": [
       "['well, there ya go! that explains everything gansao, we have been sincerely debating a frivolous issue of human development with a simpleton who gets his education from fictional tv. now i understand completely why it has been impossible to reason with him. we are officially wasting our time even communicating with such a person. emoticonxwow emoticonxdonno emoticonxfrazzled',\n",
       " 'well, there ya go! that explains everything gansao, we have been sincerely debating a serious issue of human development with a simpleton who gets his education from nonfictional tv. now i understand completely why it has been impossible to reason with him. we are officially wasting our time even communicating with such a person. emoticonxwow emoticonxdonno emoticonxfrazzled',\n",
       " 'well, there ya go! that explains everything gansao, we have been sincerely debating a serious issue of human development with a simpleton who gets his education from fictional tv. now i understand completely why it has been possible to reason with him. we are officially wasting our time even communicating with such a person. emoticonxwow emoticonxdonno emoticonxfrazzled']"
      ]
     },
     "execution_count": 17,
     "metadata": {},
     "output_type": "execute_result"
    }
   ],
   "source": [
    "text = \"well, there ya go! that explains everything gansao, we have been sincerely debating a serious issue of human development with a simpleton who gets his education from fictional tv. now i understand completely why it has been impossible to reason with him. we are officially wasting our time even communicating with such a person. emoticonxwow emoticonxdonno emoticonxfrazzled\"\n",
    "if sentiment_score_check(text):\n",
    "    adj_list = sentiment_score_adjective(text)\n",
    "    print(adj_list)\n",
    "    non_sarcasm_candidates = adjective_translation(text, adj_list)\n",
    "non_sarcasm_candidates\n"
   ]
  }
 ],
 "metadata": {
  "kernelspec": {
   "display_name": "dsan5400",
   "language": "python",
   "name": "python3"
  },
  "language_info": {
   "codemirror_mode": {
    "name": "ipython",
    "version": 3
   },
   "file_extension": ".py",
   "mimetype": "text/x-python",
   "name": "python",
   "nbconvert_exporter": "python",
   "pygments_lexer": "ipython3",
   "version": "3.11.4"
  }
 },
 "nbformat": 4,
 "nbformat_minor": 2
}
