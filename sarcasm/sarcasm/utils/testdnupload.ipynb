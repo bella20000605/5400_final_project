{
 "cells": [
  {
   "cell_type": "code",
   "execution_count": 2,
   "metadata": {},
   "outputs": [],
   "source": [
    "import pandas as pd\n",
    "\n",
    "x_train_path = './data/X_train.csv'\n",
    "y_train_path = './data/y_train.csv'\n",
    "x_test_path = './data/X_test.csv'\n",
    "y_test_path = './data/y_test.csv'\n",
    "\n",
    "x_train = pd.read_csv(x_train_path)\n",
    "y_train = pd.read_csv(y_train_path)\n",
    "y_test = pd.read_csv(y_test_path)\n",
    "x_test = pd.read_csv(x_test_path)\n"
   ]
  },
  {
   "cell_type": "code",
   "execution_count": 3,
   "metadata": {},
   "outputs": [],
   "source": [
    "import numpy as np\n",
    "import pandas as pd\n",
    "from sklearn.feature_extraction.text import TfidfVectorizer\n",
    "from sklearn.linear_model import LogisticRegression\n",
    "from sklearn.feature_extraction.text import CountVectorizer\n",
    "from sklearn.naive_bayes import MultinomialNB\n",
    "from sklearn.model_selection import train_test_split\n",
    "from sklearn.ensemble import RandomForestClassifier\n"
   ]
  },
  {
   "cell_type": "code",
   "execution_count": 4,
   "metadata": {},
   "outputs": [],
   "source": [
    "class SarcasmModel:\n",
    "    \"\"\" \n",
    "    Interface for sarcasm detection model\n",
    "    \"\"\"\n",
    "\n",
    "    def __init__(self, var_smoothing):\n",
    "        self.var_smoothing = var_smoothing\n",
    "\n",
    "    def __str__(self):\n",
    "        f\"SarcasmModel(Smoothing Factor='{self.SarcasmModel}')\"\n",
    "\n",
    "    def __repr__(self):\n",
    "        f\"SarcasmModel(Smoothing Factor='{self.SarcasmModel}')\"\n",
    "\n",
    "    def train(self):\n",
    "        pass\n",
    "\n",
    "    def test(self):\n",
    "        pass\n"
   ]
  },
  {
   "cell_type": "code",
   "execution_count": 5,
   "metadata": {},
   "outputs": [],
   "source": [
    "class RandomForestSarcasm(SarcasmModel):\n",
    "    \"\"\"\n",
    "    Can perform Random Forest classification on a group of text files.\n",
    "    It will read through each file in the training folder, find the TF-IDF vector space for the text data,\n",
    "    Then it will fit the Random Forest model on them.\n",
    "    \"\"\"\n",
    "\n",
    "    def __init__(self, n_estimators=100, max_depth=None, random_state=None):\n",
    "        \"\"\"\n",
    "        Initializes the Random Forest classifier with the specified number of trees and max depth.\n",
    "        :param n_estimators: Number of trees in the forest.\n",
    "        :param max_depth: Maximum depth of the tree.\n",
    "        :param random_state: Random state for reproducibility.\n",
    "        \"\"\"\n",
    "        super().__init__(var_smoothing=0)  # var_smoothing not used in Random Forest\n",
    "        self.n_estimators = n_estimators\n",
    "        self.max_depth = max_depth\n",
    "        self.random_state = random_state\n",
    "\n",
    "    def train(self, x_train, y_train):\n",
    "        \"\"\"\n",
    "        Trains the Random Forest classifier on the given training data.\n",
    "        :param x_train: feature training set.\n",
    "        :param y_train: response training set.\n",
    "        :return: TF-IDF training vector space and fitted training model.\n",
    "        \"\"\"\n",
    "        tfidf = TfidfVectorizer()\n",
    "        train_tfidf = tfidf.fit_transform(x_train)\n",
    "        rf_model = RandomForestClassifier(\n",
    "            n_estimators=self.n_estimators, max_depth=self.max_depth, random_state=self.random_state)\n",
    "        rf_model.fit(train_tfidf, y_train)\n",
    "        return tfidf, rf_model\n",
    "\n",
    "    def test(self, training_model, tfidf, x_test):\n",
    "        \"\"\"\n",
    "        Tests the Random Forest model on the given test data.\n",
    "        :param training_model: fitted training model.\n",
    "        :param tfidf: TF-IDF training vector space.\n",
    "        :param x_test: feature test set.\n",
    "        :return: response variable prediction.\n",
    "        \"\"\"\n",
    "        test_tfidf = tfidf.transform(x_test)\n",
    "        y_pred = training_model.predict(test_tfidf)\n",
    "        return y_pred\n"
   ]
  },
  {
   "cell_type": "code",
   "execution_count": 6,
   "metadata": {},
   "outputs": [
    {
     "data": {
      "text/plain": [
       "array([[630, 296],\n",
       "       [266, 686]], dtype=int64)"
      ]
     },
     "execution_count": 6,
     "metadata": {},
     "output_type": "execute_result"
    }
   ],
   "source": [
    "from sklearn.metrics import confusion_matrix\n",
    "\n",
    "\n",
    "rf_sarcasm = RandomForestSarcasm()\n",
    "\n",
    "y_train_mapped = y_train['class'].map({'notsarc': 0, 'sarc': 1}).values\n",
    "y_test_mapped = y_test['class'].map({'notsarc': 0, 'sarc': 1}).values\n",
    "\n",
    "tfidf, trained_rf_model = rf_sarcasm.train(x_train['text'], y_train_mapped)\n",
    "\n",
    "y_pred_rf = rf_sarcasm.test(trained_rf_model, tfidf, x_test['text'])\n",
    "\n",
    "confusion_matrix_rf = confusion_matrix(y_test_mapped, y_pred_rf)\n",
    "\n",
    "confusion_matrix_rf\n"
   ]
  }
 ],
 "metadata": {
  "kernelspec": {
   "display_name": "base",
   "language": "python",
   "name": "python3"
  },
  "language_info": {
   "codemirror_mode": {
    "name": "ipython",
    "version": 3
   },
   "file_extension": ".py",
   "mimetype": "text/x-python",
   "name": "python",
   "nbconvert_exporter": "python",
   "pygments_lexer": "ipython3",
   "version": "3.10.9"
  },
  "orig_nbformat": 4
 },
 "nbformat": 4,
 "nbformat_minor": 2
}
