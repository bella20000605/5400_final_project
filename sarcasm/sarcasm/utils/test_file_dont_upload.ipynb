{
 "cells": [
  {
   "cell_type": "code",
   "execution_count": 85,
   "metadata": {},
   "outputs": [],
   "source": [
    "import numpy as np\n",
    "import pandas as pd\n",
    "from sklearn.model_selection import train_test_split\n"
   ]
  },
  {
   "cell_type": "code",
   "execution_count": 86,
   "metadata": {},
   "outputs": [],
   "source": [
    "df1 = pd.read_csv(\"../../data/GEN-sarc-notsarc.csv\")\n",
    "df2 = pd.read_csv(\"../../data/HYP-sarc-notsarc.csv\")\n",
    "df3 = pd.read_csv(\"../../data/RQ-sarc-notsarc.csv\")"
   ]
  },
  {
   "cell_type": "code",
   "execution_count": 87,
   "metadata": {},
   "outputs": [],
   "source": [
    "df = pd.read_csv(\"../../data/sarcasm.csv\")\n",
    "X = df['text']\n",
    "y = df['class']\n",
    "X_train, X_test, y_train, y_test = train_test_split(X, y, test_size=0.2, random_state=10)"
   ]
  },
  {
   "cell_type": "code",
   "execution_count": 88,
   "metadata": {},
   "outputs": [],
   "source": [
    "from sklearn.feature_extraction.text import TfidfVectorizer\n",
    "from sklearn.linear_model import LogisticRegression\n",
    "\n",
    "def predict(x_train,y_train,x_test):\n",
    "    ## train\n",
    "    tfidf = TfidfVectorizer()\n",
    "    train_tfidf = tfidf.fit_transform(x_train)\n",
    "    LogisticModel = LogisticRegression()\n",
    "    LogisticModel.fit(train_tfidf, y_train)\n",
    "    ## test\n",
    "    test_tfidf = tfidf.transform(x_test)\n",
    "    y_pred = LogisticModel.predict(test_tfidf)\n",
    "    return y_pred"
   ]
  },
  {
   "cell_type": "code",
   "execution_count": 89,
   "metadata": {},
   "outputs": [
    {
     "data": {
      "text/plain": [
       "array(['sarc', 'sarc', 'sarc', ..., 'notsarc', 'notsarc', 'notsarc'],\n",
       "      dtype=object)"
      ]
     },
     "execution_count": 89,
     "metadata": {},
     "output_type": "execute_result"
    }
   ],
   "source": [
    "predict(X_train,y_train,X_test)"
   ]
  },
  {
   "cell_type": "code",
   "execution_count": 90,
   "metadata": {},
   "outputs": [
    {
     "data": {
      "text/plain": [
       "0.7273695420660277"
      ]
     },
     "execution_count": 90,
     "metadata": {},
     "output_type": "execute_result"
    }
   ],
   "source": [
    "from sklearn.metrics import accuracy_score\n",
    "y_pred = predict(X_train,y_train,X_test)\n",
    "accuracy = accuracy_score(y_test, y_pred)\n",
    "accuracy"
   ]
  },
  {
   "cell_type": "code",
   "execution_count": 91,
   "metadata": {},
   "outputs": [],
   "source": [
    "def train(x_train,y_train):\n",
    "    tfidf = TfidfVectorizer()\n",
    "    train_tfidf = tfidf.fit_transform(x_train)\n",
    "    LogisticModel = LogisticRegression()\n",
    "    LogisticModel.fit(train_tfidf, y_train)\n",
    "    return tfidf, LogisticModel\n",
    "\n",
    "def test(training_model,tfidf,x_test):\n",
    "    test_tfidf = tfidf.transform(x_test)\n",
    "    y_pred = training_model.predict(test_tfidf)\n",
    "    return y_pred"
   ]
  },
  {
   "cell_type": "code",
   "execution_count": 92,
   "metadata": {},
   "outputs": [
    {
     "data": {
      "text/plain": [
       "0.7273695420660277"
      ]
     },
     "execution_count": 92,
     "metadata": {},
     "output_type": "execute_result"
    }
   ],
   "source": [
    "tfidf, LogisticModel = train(X_train,y_train)\n",
    "y_pred_2 = test(LogisticModel,tfidf,X_test)\n",
    "accuracy_score(y_test, y_pred_2)"
   ]
  },
  {
   "cell_type": "markdown",
   "metadata": {},
   "source": [
    "##   Long Short-Term Memory (LSTM) model"
   ]
  },
  {
   "cell_type": "code",
   "execution_count": 93,
   "metadata": {},
   "outputs": [],
   "source": [
    "from tensorflow.keras.preprocessing.text import Tokenizer\n",
    "from tensorflow.keras.preprocessing.sequence import pad_sequences\n",
    "from sklearn.model_selection import train_test_split\n",
    "\n",
    "# Constants for text preprocessing\n",
    "VOCAB_SIZE = 10000 # number of words to consider from the dataset\n",
    "MAX_LENGTH = 100    # maximum length of each sentence\n",
    "TRUNC_TYPE = 'post' # where to truncate sentences\n",
    "PADDING_TYPE = 'post' # where to pad sentences\n",
    "\n",
    "data = pd.read_csv(\"../../data/sarcasm.csv\")\n",
    "# Tokenizing the sentences\n",
    "tokenizer = Tokenizer(num_words=VOCAB_SIZE, oov_token=\"<OOV>\")\n",
    "tokenizer.fit_on_texts(data['text'])\n",
    "sequences = tokenizer.texts_to_sequences(data['text'])\n",
    "\n",
    "# Pad the sequences\n",
    "padded_sequences = pad_sequences(sequences, maxlen=MAX_LENGTH, padding=PADDING_TYPE, truncating=TRUNC_TYPE)\n",
    "\n",
    "# Encode the labels\n",
    "label_encoding = {'notsarc': 0, 'sarc': 1}\n",
    "labels = data['class'].map(label_encoding).values\n",
    "\n",
    "# Splitting the data\n",
    "X_train, X_test, y_train, y_test = train_test_split(padded_sequences, labels, test_size=0.2, random_state=42)\n"
   ]
  },
  {
   "cell_type": "code",
   "execution_count": 94,
   "metadata": {},
   "outputs": [],
   "source": [
    "from tensorflow.keras.models import Sequential\n",
    "from tensorflow.keras.layers import Embedding, LSTM, Dense\n",
    "\n",
    "# Model configuration\n",
    "embedding_dim = 20\n",
    "\n",
    "# Build the model\n",
    "model = Sequential([\n",
    "    Embedding(VOCAB_SIZE, embedding_dim, input_length=MAX_LENGTH),\n",
    "    LSTM(32),\n",
    "    Dense(24, activation='relu'),\n",
    "    Dense(1, activation='sigmoid')\n",
    "])\n",
    "\n",
    "model.compile(loss='binary_crossentropy', optimizer='adam', metrics=['accuracy'])\n"
   ]
  },
  {
   "cell_type": "code",
   "execution_count": 95,
   "metadata": {},
   "outputs": [
    {
     "name": "stdout",
     "output_type": "stream",
     "text": [
      "Epoch 1/10\n",
      "235/235 [==============================] - 4s 15ms/step - loss: 0.6890 - accuracy: 0.5446 - val_loss: 0.6842 - val_accuracy: 0.5490\n",
      "Epoch 2/10\n",
      "235/235 [==============================] - 3s 14ms/step - loss: 0.6602 - accuracy: 0.5978 - val_loss: 0.6783 - val_accuracy: 0.5085\n",
      "Epoch 3/10\n",
      "235/235 [==============================] - 3s 14ms/step - loss: 0.6787 - accuracy: 0.5518 - val_loss: 0.6930 - val_accuracy: 0.5176\n",
      "Epoch 4/10\n",
      "235/235 [==============================] - 3s 14ms/step - loss: 0.6914 - accuracy: 0.5127 - val_loss: 0.6871 - val_accuracy: 0.5543\n",
      "Epoch 5/10\n",
      "235/235 [==============================] - 3s 14ms/step - loss: 0.6016 - accuracy: 0.6921 - val_loss: 0.6372 - val_accuracy: 0.6486\n",
      "Epoch 6/10\n",
      "235/235 [==============================] - 3s 14ms/step - loss: 0.5517 - accuracy: 0.7357 - val_loss: 0.6630 - val_accuracy: 0.6033\n",
      "Epoch 7/10\n",
      "235/235 [==============================] - 3s 15ms/step - loss: 0.5341 - accuracy: 0.7476 - val_loss: 0.5856 - val_accuracy: 0.7093\n",
      "Epoch 8/10\n",
      "235/235 [==============================] - 3s 14ms/step - loss: 0.4892 - accuracy: 0.7882 - val_loss: 0.6480 - val_accuracy: 0.7173\n",
      "Epoch 9/10\n",
      "235/235 [==============================] - 3s 15ms/step - loss: 0.5880 - accuracy: 0.7198 - val_loss: 0.6137 - val_accuracy: 0.6832\n",
      "Epoch 10/10\n",
      "235/235 [==============================] - 3s 14ms/step - loss: 0.5159 - accuracy: 0.7801 - val_loss: 0.6112 - val_accuracy: 0.7146\n"
     ]
    }
   ],
   "source": [
    "# Train the model\n",
    "history = model.fit(X_train, y_train, epochs=10, validation_data=(X_test, y_test))"
   ]
  },
  {
   "cell_type": "code",
   "execution_count": 96,
   "metadata": {},
   "outputs": [
    {
     "name": "stdout",
     "output_type": "stream",
     "text": [
      "59/59 [==============================] - 0s 3ms/step - loss: 0.6112 - accuracy: 0.7146\n",
      "Test Accuracy: 0.7145900130271912\n"
     ]
    }
   ],
   "source": [
    "# Evaluate the model\n",
    "test_loss, test_acc = model.evaluate(X_test, y_test)\n",
    "print(f\"Test Accuracy: {test_acc}\")"
   ]
  },
  {
   "cell_type": "code",
   "execution_count": 97,
   "metadata": {},
   "outputs": [
    {
     "name": "stdout",
     "output_type": "stream",
     "text": [
      "WARNING:tensorflow:6 out of the last 6 calls to <function Model.make_predict_function.<locals>.predict_function at 0x29ec8aac0> triggered tf.function retracing. Tracing is expensive and the excessive number of tracings could be due to (1) creating @tf.function repeatedly in a loop, (2) passing tensors with different shapes, (3) passing Python objects instead of tensors. For (1), please define your @tf.function outside of the loop. For (2), @tf.function has reduce_retracing=True option that can avoid unnecessary retracing. For (3), please refer to https://www.tensorflow.org/guide/function#controlling_retracing and https://www.tensorflow.org/api_docs/python/tf/function for  more details.\n",
      "1/1 [==============================] - 0s 171ms/step\n"
     ]
    },
    {
     "data": {
      "text/plain": [
       "'Sarcastic'"
      ]
     },
     "execution_count": 97,
     "metadata": {},
     "output_type": "execute_result"
    }
   ],
   "source": [
    "# make predictions\n",
    "def predict_sarcasm(sentence):\n",
    "    sequence = tokenizer.texts_to_sequences([sentence])\n",
    "    padded = pad_sequences(sequence, maxlen=MAX_LENGTH, padding=PADDING_TYPE, truncating=TRUNC_TYPE)\n",
    "    prediction = model.predict(padded)\n",
    "    return 'Sarcastic' if prediction[0][0] > 0.5 else 'Not Sarcastic'\n",
    "\n",
    "# Example\n",
    "predict_sarcasm(\"Oh, what a wonderful day!\")"
   ]
  }
 ],
 "metadata": {
  "kernelspec": {
   "display_name": "dsan5400",
   "language": "python",
   "name": "python3"
  },
  "language_info": {
   "codemirror_mode": {
    "name": "ipython",
    "version": 3
   },
   "file_extension": ".py",
   "mimetype": "text/x-python",
   "name": "python",
   "nbconvert_exporter": "python",
   "pygments_lexer": "ipython3",
   "version": "3.11.4"
  }
 },
 "nbformat": 4,
 "nbformat_minor": 2
}
